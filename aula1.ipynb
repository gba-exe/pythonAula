{
 "cells": [
  {
   "cell_type": "markdown",
   "metadata": {},
   "source": [
    "Antes de começar, o python tem ambientes virtuais. Ou seja, uma caixinha onde vc deixa salvo tudo que vai usar no projeto em que está, assim vc pode organizar melhor as suas bibliotecas e ao enviar para outras pessoas, vc pode enviar só as dependencias necessarias dessa caixinha.\n",
    "\n",
    "para criar uma venv (virtual environment/caixinha açsldkfjalsf) precisamos dar alguns comandos no terminal\n",
    "\n",
    "$ python3 -m venv caminho/para/a/venv\n",
    "\n",
    "eu prefiro deixar as venvs na pasta home mas com um . antes do nome, para que elas fiquem escondidas, por exemplo\n",
    "\n",
    "$ python3 -m venv ~/.novoProjeto"
   ]
  },
  {
   "cell_type": "markdown",
   "metadata": {},
   "source": [
    "Agora que criamos nosso ambiente, devemos entrar nele e instalar nossas dependencias. Para entrar na nossa venv usamos o comando\n",
    "\n",
    "$ source ~/<venv>/bin/activate\n",
    "\n",
    "esse comando roda o arquivo de ativação da nossa venv, no meu caso\n",
    "\n",
    "$ source ~/.novoProjeto/bin/activate"
   ]
  },
  {
   "cell_type": "markdown",
   "metadata": {},
   "source": [
    "Vamos criar um simples programa de calculadora\n"
   ]
  },
  {
   "cell_type": "code",
   "execution_count": 8,
   "metadata": {},
   "outputs": [
    {
     "name": "stdout",
     "output_type": "stream",
     "text": [
      "INTERPOLAÇÃO \n",
      "Soma 30 \n",
      "Subtração 16 \n",
      "Multiplicação 161 \n",
      "Divisão 3.2857142857142856 \n",
      "\n",
      "CONCATENAÇÃO \n",
      "Soma30 \n",
      "Subtração16 \n",
      "Multiplicação161 \n",
      "Divisão3.2857142857142856\n"
     ]
    }
   ],
   "source": [
    "n1 = 23 \n",
    "n2 = 7\n",
    "# acima definimos as variaveis\n",
    "\n",
    "# abaixo realizamos as operações matemáticas\n",
    "sum = n1 + n2\n",
    "sub = n1 - n2\n",
    "mul = n1 * n2\n",
    "div = n1 / n2\n",
    "\n",
    "print(f\"INTERPOLAÇÃO \\nSoma {sum} \\nSubtração {sub} \\nMultiplicação {mul} \\nDivisão {div} \\n\") \n",
    "# aqui o comando print exibe no terminal os resultados (o prefixo \"f\" é usado para a interpolação, poderiamos realizar essa mensagem de outra forma)\n",
    "\n",
    "print(\"CONCATENAÇÃO \\nSoma\" + str(sum) + \" \\nSubtração\" + str(sub) + \" \\nMultiplicação\" + str(mul) + \" \\nDivisão\" + str(div))"
   ]
  },
  {
   "cell_type": "markdown",
   "metadata": {},
   "source": [
    "Vamos agora criar um programa que recebe inputs do usuario"
   ]
  },
  {
   "cell_type": "code",
   "execution_count": 10,
   "metadata": {},
   "outputs": [
    {
     "name": "stdout",
     "output_type": "stream",
     "text": [
      "Primeiro número: 10 \n",
      "Segundo número: 11\n"
     ]
    }
   ],
   "source": [
    "n1 = input(\"Digite o primeiro número: \")\n",
    "n2 = input(\"Digite o segundo número: \")\n",
    "\n",
    "# o comando input recebe um valor do terminal e atribui a uma variavel, no caso n1 e n2\n",
    "\n",
    "print(f\"Primeiro número: {n1} \\nSegundo número: {n2}\")"
   ]
  },
  {
   "cell_type": "markdown",
   "metadata": {},
   "source": [
    "Desafio: \n",
    "Crie um programa que receba dois inputs do usuario e faça operações matemáticas com eles, de formas variadas\n",
    "Ex. A + B, B + A, A/B, B/A e etc..."
   ]
  },
  {
   "cell_type": "code",
   "execution_count": null,
   "metadata": {},
   "outputs": [],
   "source": [
    "# digite seu código aqui, ou crie um programa separado com a extensão .py"
   ]
  }
 ],
 "metadata": {
  "kernelspec": {
   "display_name": "Python 3",
   "language": "python",
   "name": "python3"
  },
  "language_info": {
   "codemirror_mode": {
    "name": "ipython",
    "version": 3
   },
   "file_extension": ".py",
   "mimetype": "text/x-python",
   "name": "python",
   "nbconvert_exporter": "python",
   "pygments_lexer": "ipython3",
   "version": "3.11.3"
  },
  "orig_nbformat": 4
 },
 "nbformat": 4,
 "nbformat_minor": 2
}
